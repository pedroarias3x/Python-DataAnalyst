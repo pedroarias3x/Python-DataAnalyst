{
 "cells": [
  {
   "cell_type": "code",
   "execution_count": 1,
   "metadata": {},
   "outputs": [
    {
     "name": "stdout",
     "output_type": "stream",
     "text": [
      "{\"nombre\": \"Juan\", \"edad\": 30, \"ciudad\": \"Ejemploville\"}\n"
     ]
    }
   ],
   "source": [
    "import json\n",
    "\n",
    "# Crear un diccionario Python\n",
    "datos_python = {\n",
    "    \"nombre\": \"Juan\",\n",
    "    \"edad\": 30,\n",
    "    \"ciudad\": \"Ejemploville\"\n",
    "}\n",
    "\n",
    "# Convertir el diccionario a una cadena JSON\n",
    "json_string = json.dumps(datos_python)\n",
    "\n",
    "print(json_string)\n"
   ]
  },
  {
   "cell_type": "code",
   "execution_count": 2,
   "metadata": {},
   "outputs": [
    {
     "name": "stdout",
     "output_type": "stream",
     "text": [
      "{'nombre': 'Juan', 'edad': 30, 'ciudad': 'Ejemploville'}\n"
     ]
    }
   ],
   "source": [
    "# Una cadena JSON de ejemplo\n",
    "json_string = '{\"nombre\": \"Juan\", \"edad\": 30, \"ciudad\": \"Ejemploville\"}'\n",
    "\n",
    "# Convertir la cadena JSON a un objeto de Python\n",
    "datos_python = json.loads(json_string)\n",
    "\n",
    "print(datos_python)\n"
   ]
  },
  {
   "cell_type": "code",
   "execution_count": 3,
   "metadata": {},
   "outputs": [
    {
     "name": "stdout",
     "output_type": "stream",
     "text": [
      "{'nombre': 'Juan', 'edad': 30, 'ciudad': 'Ejemploville'}\n"
     ]
    }
   ],
   "source": [
    "# Escribir datos a un archivo JSON\n",
    "with open('datos.json', 'w') as archivo_salida:\n",
    "    json.dump(datos_python, archivo_salida)\n",
    "\n",
    "# Leer datos desde un archivo JSON\n",
    "with open('datos.json', 'r') as archivo_entrada:\n",
    "    datos_leidos = json.load(archivo_entrada)\n",
    "\n",
    "print(datos_leidos)\n"
   ]
  },
  {
   "cell_type": "code",
   "execution_count": null,
   "metadata": {},
   "outputs": [],
   "source": []
  }
 ],
 "metadata": {
  "kernelspec": {
   "display_name": "Python 3",
   "language": "python",
   "name": "python3"
  },
  "language_info": {
   "codemirror_mode": {
    "name": "ipython",
    "version": 3
   },
   "file_extension": ".py",
   "mimetype": "text/x-python",
   "name": "python",
   "nbconvert_exporter": "python",
   "pygments_lexer": "ipython3",
   "version": "3.12.1"
  }
 },
 "nbformat": 4,
 "nbformat_minor": 2
}
