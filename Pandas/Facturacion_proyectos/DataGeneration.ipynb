{
 "cells": [
  {
   "cell_type": "code",
   "execution_count": 1,
   "metadata": {},
   "outputs": [],
   "source": [
    "import pandas as pandas"
   ]
  },
  {
   "cell_type": "code",
   "execution_count": 2,
   "metadata": {},
   "outputs": [],
   "source": [
    "#Cargamos otras librerias utiles\n",
    "from datetime import datetime, timedelta\n",
    "import random\n",
    "import string"
   ]
  },
  {
   "cell_type": "code",
   "execution_count": 14,
   "metadata": {},
   "outputs": [],
   "source": [
    "#Funcion para la generacion de los datos\n",
    "def generacion_datos_mes(numero_registros, numero_clientes):\n",
    "    #Inicializamos el dataframe\n",
    "    #Iteraciones\n",
    "    # numero_total = numero_registros * numero_clientes\n",
    "    data = []\n",
    "    #print(type(data))\n",
    "    for i in range(1,numero_registros+1):\n",
    "        Trabajador = f\"Trabajador {i}\"\n",
    "        Proyecto = f\"Proyecto {i}\"\n",
    "        data.append([Trabajador, Proyecto])\n",
    "    print(data)"
   ]
  },
  {
   "cell_type": "code",
   "execution_count": 15,
   "metadata": {},
   "outputs": [
    {
     "name": "stdout",
     "output_type": "stream",
     "text": [
      "[['Trabajador 1', 'Proyecto 1'], ['Trabajador 2', 'Proyecto 2'], ['Trabajador 3', 'Proyecto 3'], ['Trabajador 4', 'Proyecto 4'], ['Trabajador 5', 'Proyecto 5'], ['Trabajador 6', 'Proyecto 6'], ['Trabajador 7', 'Proyecto 7'], ['Trabajador 8', 'Proyecto 8'], ['Trabajador 9', 'Proyecto 9'], ['Trabajador 10', 'Proyecto 10']]\n"
     ]
    }
   ],
   "source": [
    "generacion_datos_mes(10,3)"
   ]
  },
  {
   "cell_type": "code",
   "execution_count": null,
   "metadata": {},
   "outputs": [],
   "source": []
  }
 ],
 "metadata": {
  "kernelspec": {
   "display_name": "Python 3",
   "language": "python",
   "name": "python3"
  },
  "language_info": {
   "codemirror_mode": {
    "name": "ipython",
    "version": 3
   },
   "file_extension": ".py",
   "mimetype": "text/x-python",
   "name": "python",
   "nbconvert_exporter": "python",
   "pygments_lexer": "ipython3",
   "version": "3.12.1"
  }
 },
 "nbformat": 4,
 "nbformat_minor": 2
}
