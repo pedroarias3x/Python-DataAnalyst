{
 "cells": [
  {
   "cell_type": "code",
   "execution_count": 1,
   "metadata": {},
   "outputs": [],
   "source": [
    "import pandas as pandas"
   ]
  },
  {
   "cell_type": "code",
   "execution_count": 2,
   "metadata": {},
   "outputs": [],
   "source": [
    "#Cargamos otras librerias utiles\n",
    "from datetime import datetime, timedelta\n",
    "import random\n",
    "import string"
   ]
  },
  {
   "cell_type": "code",
   "execution_count": 22,
   "metadata": {},
   "outputs": [
    {
     "name": "stdout",
     "output_type": "stream",
     "text": [
      "[['Trabajador 1', 'Proyecto 1', 'Cliente 1', 28, 68.1, 30], ['Trabajador 1', 'Proyecto 2', 'Cliente 2', 30, 79.3, 39], ['Trabajador 1', 'Proyecto 3', 'Cliente 3', 37, 100.5, 50], ['Trabajador 2', 'Proyecto 1', 'Cliente 1', 31, 68.1, 36], ['Trabajador 2', 'Proyecto 2', 'Cliente 2', 30, 79.3, 32], ['Trabajador 2', 'Proyecto 3', 'Cliente 3', 36, 100.5, 38], ['Trabajador 3', 'Proyecto 1', 'Cliente 1', 19, 68.1, 19], ['Trabajador 3', 'Proyecto 2', 'Cliente 2', 2, 79.3, 2], ['Trabajador 3', 'Proyecto 3', 'Cliente 3', 9, 100.5, 10], ['Trabajador 4', 'Proyecto 1', 'Cliente 1', 7, 68.1, 10], ['Trabajador 4', 'Proyecto 2', 'Cliente 2', 11, 79.3, 12], ['Trabajador 4', 'Proyecto 3', 'Cliente 3', 18, 100.5, 24], ['Trabajador 5', 'Proyecto 1', 'Cliente 1', 24, 68.1, 29], ['Trabajador 5', 'Proyecto 2', 'Cliente 2', 39, 79.3, 51], ['Trabajador 5', 'Proyecto 3', 'Cliente 3', 25, 100.5, 36], ['Trabajador 6', 'Proyecto 1', 'Cliente 1', 17, 68.1, 24], ['Trabajador 6', 'Proyecto 2', 'Cliente 2', 30, 79.3, 32], ['Trabajador 6', 'Proyecto 3', 'Cliente 3', 18, 100.5, 18], ['Trabajador 7', 'Proyecto 1', 'Cliente 1', 19, 68.1, 21], ['Trabajador 7', 'Proyecto 2', 'Cliente 2', 12, 79.3, 14], ['Trabajador 7', 'Proyecto 3', 'Cliente 3', 26, 100.5, 29], ['Trabajador 8', 'Proyecto 1', 'Cliente 1', 40, 68.1, 60], ['Trabajador 8', 'Proyecto 2', 'Cliente 2', 32, 79.3, 41], ['Trabajador 8', 'Proyecto 3', 'Cliente 3', 12, 100.5, 14], ['Trabajador 9', 'Proyecto 1', 'Cliente 1', 6, 68.1, 6], ['Trabajador 9', 'Proyecto 2', 'Cliente 2', 19, 79.3, 20], ['Trabajador 9', 'Proyecto 3', 'Cliente 3', 23, 100.5, 26], ['Trabajador 10', 'Proyecto 1', 'Cliente 1', 21, 68.1, 27], ['Trabajador 10', 'Proyecto 2', 'Cliente 2', 40, 79.3, 52], ['Trabajador 10', 'Proyecto 3', 'Cliente 3', 24, 100.5, 35]]\n"
     ]
    }
   ],
   "source": [
    "#Funcion para la generacion de los datos\n",
    "def generacion_datos_mes(numero_registros, numero_clientes, precios_clientes):\n",
    "    #Inicializamos el dataframe    \n",
    "    #Campos: Trabajador\tCodigo de proyecto\tCliente\tHoras facturadas\tImporte hora\tHoras imputadas\tFecha\n",
    "    #Iteraciones\n",
    "    # numero_total = numero_registros * numero_clientes\n",
    "    data = []\n",
    "    #print(type(data))\n",
    "    for i in range(1,numero_registros+1):\n",
    "        Trabajador = f\"Trabajador {i}\"\n",
    "        for j in range(1,numero_clientes+1):\n",
    "            Proyecto = f\"Proyecto {j}\"\n",
    "            Cliente = f\"Cliente {j}\"\n",
    "            horas_facturadas = random.randint(1,40)\n",
    "            #El precio hora final, viene dado por el vector de precios\n",
    "            precio_hora_final = precios_clientes[j-1] if j <= len(precios_clientes) else 0 #Uso de un if directamente, sin la estructura completa\n",
    "            #Horas imputadas a ese cliente proyecto (100% + 50% de desviacion)\n",
    "            porcentaje_imputadas =random.uniform(1, 1.5)\n",
    "            horas_imputadas = round(horas_facturadas*porcentaje_imputadas)\n",
    "            data.append([Trabajador, Proyecto, Cliente, horas_facturadas, precio_hora_final, horas_imputadas])\n",
    "    print(data)\n",
    "\n",
    "precios_clientes = [68.1,79.3,100.5]\n",
    "generacion_datos_mes(10,3, precios_clientes)"
   ]
  },
  {
   "cell_type": "code",
   "execution_count": 19,
   "metadata": {},
   "outputs": [
    {
     "name": "stdout",
     "output_type": "stream",
     "text": [
      "[['Trabajador 1', 'Proyecto 1', 'Cliente 1'], ['Trabajador 1', 'Proyecto 2', 'Cliente 2'], ['Trabajador 1', 'Proyecto 3', 'Cliente 3'], [23], ['Trabajador 2', 'Proyecto 1', 'Cliente 1'], ['Trabajador 2', 'Proyecto 2', 'Cliente 2'], ['Trabajador 2', 'Proyecto 3', 'Cliente 3'], [40], ['Trabajador 3', 'Proyecto 1', 'Cliente 1'], ['Trabajador 3', 'Proyecto 2', 'Cliente 2'], ['Trabajador 3', 'Proyecto 3', 'Cliente 3'], [30], ['Trabajador 4', 'Proyecto 1', 'Cliente 1'], ['Trabajador 4', 'Proyecto 2', 'Cliente 2'], ['Trabajador 4', 'Proyecto 3', 'Cliente 3'], [3], ['Trabajador 5', 'Proyecto 1', 'Cliente 1'], ['Trabajador 5', 'Proyecto 2', 'Cliente 2'], ['Trabajador 5', 'Proyecto 3', 'Cliente 3'], [8], ['Trabajador 6', 'Proyecto 1', 'Cliente 1'], ['Trabajador 6', 'Proyecto 2', 'Cliente 2'], ['Trabajador 6', 'Proyecto 3', 'Cliente 3'], [40], ['Trabajador 7', 'Proyecto 1', 'Cliente 1'], ['Trabajador 7', 'Proyecto 2', 'Cliente 2'], ['Trabajador 7', 'Proyecto 3', 'Cliente 3'], [24], ['Trabajador 8', 'Proyecto 1', 'Cliente 1'], ['Trabajador 8', 'Proyecto 2', 'Cliente 2'], ['Trabajador 8', 'Proyecto 3', 'Cliente 3'], [27], ['Trabajador 9', 'Proyecto 1', 'Cliente 1'], ['Trabajador 9', 'Proyecto 2', 'Cliente 2'], ['Trabajador 9', 'Proyecto 3', 'Cliente 3'], [38], ['Trabajador 10', 'Proyecto 1', 'Cliente 1'], ['Trabajador 10', 'Proyecto 2', 'Cliente 2'], ['Trabajador 10', 'Proyecto 3', 'Cliente 3'], [5]]\n"
     ]
    }
   ],
   "source": [
    "generacion_datos_mes(10,3)"
   ]
  },
  {
   "cell_type": "code",
   "execution_count": null,
   "metadata": {},
   "outputs": [],
   "source": []
  }
 ],
 "metadata": {
  "kernelspec": {
   "display_name": "Python 3",
   "language": "python",
   "name": "python3"
  },
  "language_info": {
   "codemirror_mode": {
    "name": "ipython",
    "version": 3
   },
   "file_extension": ".py",
   "mimetype": "text/x-python",
   "name": "python",
   "nbconvert_exporter": "python",
   "pygments_lexer": "ipython3",
   "version": "3.12.1"
  }
 },
 "nbformat": 4,
 "nbformat_minor": 2
}
