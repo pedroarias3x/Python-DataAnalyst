{
 "cells": [
  {
   "cell_type": "code",
   "execution_count": 4,
   "metadata": {},
   "outputs": [],
   "source": [
    "import pandas as pd\n",
    "import matplotlib.pyplot as plt"
   ]
  },
  {
   "cell_type": "code",
   "execution_count": 5,
   "metadata": {},
   "outputs": [],
   "source": [
    "#Establecemos la ruta del fichero\n",
    "archivo_origen = 'Empleados2023.xlsx'"
   ]
  },
  {
   "cell_type": "code",
   "execution_count": 6,
   "metadata": {},
   "outputs": [
    {
     "name": "stdout",
     "output_type": "stream",
     "text": [
      "        Trabajador  Mes  Facturacion  Coste Salario  Coste Dietas  \\\n",
      "0     Trabajador 1    1        13566           6430           627   \n",
      "1     Trabajador 2    1         8395           6006           652   \n",
      "2     Trabajador 3    1        14903           3959           583   \n",
      "3     Trabajador 4    1        11556           6020           590   \n",
      "4     Trabajador 5    1        13168           6139           711   \n",
      "..             ...  ...          ...            ...           ...   \n",
      "235  Trabajador 16   12          704           6716           941   \n",
      "236  Trabajador 17   12         8003           6358           744   \n",
      "237  Trabajador 18   12        11890           3637           920   \n",
      "238  Trabajador 19   12         5677           3823           899   \n",
      "239  Trabajador 20   12         3288           3730           653   \n",
      "\n",
      "     Coste Extra Empleado  \n",
      "0                     NaN  \n",
      "1                     NaN  \n",
      "2                     NaN  \n",
      "3                     NaN  \n",
      "4                     NaN  \n",
      "..                    ...  \n",
      "235                   NaN  \n",
      "236                   NaN  \n",
      "237                   NaN  \n",
      "238                   NaN  \n",
      "239                   NaN  \n",
      "\n",
      "[240 rows x 6 columns]\n"
     ]
    }
   ],
   "source": [
    "#Leemos la hoja del excel y la llevamos a un dataframe\n",
    "#hojas_excel = pd.ExcelFile(archivo_origen).sheet_names\n",
    "df = pd.read_excel(archivo_origen,sheet_name='2023')\n",
    "print(df)"
   ]
  },
  {
   "cell_type": "code",
   "execution_count": 7,
   "metadata": {},
   "outputs": [
    {
     "name": "stdout",
     "output_type": "stream",
     "text": [
      "        Trabajador  Mes  Facturacion  Coste Salario  Coste Dietas  \\\n",
      "0     Trabajador 1    1        13566           6430           627   \n",
      "1     Trabajador 2    1         8395           6006           652   \n",
      "2     Trabajador 3    1        14903           3959           583   \n",
      "3     Trabajador 4    1        11556           6020           590   \n",
      "4     Trabajador 5    1        13168           6139           711   \n",
      "..             ...  ...          ...            ...           ...   \n",
      "235  Trabajador 16   12          704           6716           941   \n",
      "236  Trabajador 17   12         8003           6358           744   \n",
      "237  Trabajador 18   12        11890           3637           920   \n",
      "238  Trabajador 19   12         5677           3823           899   \n",
      "239  Trabajador 20   12         3288           3730           653   \n",
      "\n",
      "     Coste Extra Empleado  Facturacion Anual  \n",
      "0                     NaN              55017  \n",
      "1                     NaN              97226  \n",
      "2                     NaN              88948  \n",
      "3                     NaN              98704  \n",
      "4                     NaN             108922  \n",
      "..                    ...                ...  \n",
      "235                   NaN              77630  \n",
      "236                   NaN             103231  \n",
      "237                   NaN             115330  \n",
      "238                   NaN             105804  \n",
      "239                   NaN              55490  \n",
      "\n",
      "[240 rows x 7 columns]\n"
     ]
    }
   ],
   "source": [
    "# Sumar la facturación mensual por trabajador\n",
    "df['Facturacion Anual'] = df.groupby('Trabajador')['Facturacion'].transform('sum')\n",
    "\n",
    "# Obtener los 3 trabajadores que más han facturado anualmente\n",
    "top_trabajadores = df.groupby('Trabajador')['Facturacion Anual'].max().nlargest(3)\n",
    "\n",
    "print(df)\n"
   ]
  },
  {
   "cell_type": "code",
   "execution_count": 9,
   "metadata": {},
   "outputs": [
    {
     "name": "stdout",
     "output_type": "stream",
     "text": [
      "Trabajador\n",
      "Trabajador 18    115330\n",
      "Trabajador 10    110925\n",
      "Trabajador 6     109673\n",
      "Name: Facturacion Anual, dtype: int64\n"
     ]
    }
   ],
   "source": [
    "print(top_trabajadores)"
   ]
  },
  {
   "cell_type": "code",
   "execution_count": 8,
   "metadata": {},
   "outputs": [
    {
     "data": {
      "image/png": "[encoded data removed]",
      "text/plain": [
       "<Figure size 640x480 with 1 Axes>"
      ]
     },
     "metadata": {},
     "output_type": "display_data"
    }
   ],
   "source": [
    "# Crear un gráfico de barras\n",
    "plt.bar(top_trabajadores.index, top_trabajadores.values, color='blue')\n",
    "plt.xlabel('Trabajador')\n",
    "plt.ylabel('Facturacion Anual')\n",
    "plt.title('Top 3 Trabajadores por Facturacion Anual')\n",
    "plt.show()"
   ]
  },
  {
   "cell_type": "code",
   "execution_count": null,
   "metadata": {},
   "outputs": [],
   "source": []
  }
 ],
 "metadata": {
  "kernelspec": {
   "display_name": "Python 3",
   "language": "python",
   "name": "python3"
  },
  "language_info": {
   "codemirror_mode": {
    "name": "ipython",
    "version": 3
   },
   "file_extension": ".py",
   "mimetype": "text/x-python",
   "name": "python",
   "nbconvert_exporter": "python",
   "pygments_lexer": "ipython3",
   "version": "3.12.1"
  }
 },
 "nbformat": 4,
 "nbformat_minor": 2
}
